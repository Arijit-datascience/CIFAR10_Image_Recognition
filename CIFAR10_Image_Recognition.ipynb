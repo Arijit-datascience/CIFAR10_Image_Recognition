{
  "nbformat": 4,
  "nbformat_minor": 0,
  "metadata": {
    "colab": {
      "name": "CIFAR10_Image_Recognition.ipynb",
      "provenance": [],
      "collapsed_sections": [],
      "authorship_tag": "ABX9TyP4QAAZDJaPduPj0r6QCsai",
      "include_colab_link": true
    },
    "kernelspec": {
      "name": "python3",
      "display_name": "Python 3"
    },
    "language_info": {
      "name": "python"
    }
  },
  "cells": [
    {
      "cell_type": "markdown",
      "metadata": {
        "id": "view-in-github",
        "colab_type": "text"
      },
      "source": [
        "<a href=\"https://colab.research.google.com/github/Arijit-datascience/CIFAR10_Image_Recognition/blob/main/CIFAR10_Image_Recognition.ipynb\" target=\"_parent\"><img src=\"https://colab.research.google.com/assets/colab-badge.svg\" alt=\"Open In Colab\"/></a>"
      ]
    },
    {
      "cell_type": "markdown",
      "metadata": {
        "id": "dSNqsLYMo5UN"
      },
      "source": [
        "\n",
        "Advanced Convolutions\n",
        "\n",
        "A. Target\n",
        "\n",
        "change the code such that it uses GPU\n",
        "change the architecture to C1C2C3C40 (basically 3 MPs)\n",
        "total RF must be more than 44\n",
        "one of the layers must use Depthwise Separable Convolution\n",
        "one of the layers must use Dilated Convolution\n",
        "use GAP (compulsory):- add FC after GAP to target #of classes (optional)\n",
        "achieve 80% accuracy, as many epochs as you want. Total Params to be less than 1M.\n",
        "B. Results\n",
        "\n",
        "Parameters: 815,200\n",
        "Best Training Accuracy in 20 epochs: 87.72%\n",
        "Best Test Accuracy in 20 epochs: 85.09 %\n",
        "Total RF reached: 76*76 at the end of Conv block 4\n",
        "C. Analysis\n",
        "\n",
        "Model meets all the mentioned targets. I have used the Depthwise seprable con and dialted kernel in the conv block 3. Also, As train test gap was coming more in earlier versions, I have used the horizontal flip and random rotations to act as regulaizer and reduce the train test gap. Code is modularized and uploaded as package in git repo."
      ]
    },
    {
      "cell_type": "code",
      "metadata": {
        "id": "TYOIYkUdo1rD"
      },
      "source": [
        "import torch\n",
        "import torch.optim as optim\n",
        "\n",
        "from torchsummary import summary\n",
        "from torch.optim.lr_scheduler import StepLR"
      ],
      "execution_count": null,
      "outputs": []
    },
    {
      "cell_type": "code",
      "metadata": {
        "id": "SFaOZjUspFet"
      },
      "source": [
        "!git clone https://github.com/Arijit-datascience/CIFAR10_Image_Recognition"
      ],
      "execution_count": null,
      "outputs": []
    },
    {
      "cell_type": "code",
      "metadata": {
        "id": "Mju0igckpFbM"
      },
      "source": [
        "from EVA5.dataset import session7_dataset as dataset\n",
        "from EVA5.models import session7_model as models\n",
        "from EVA5.models import session7_train_model as train\n",
        "from EVA5.models import session7_test_model as test\n",
        "from EVA5.utils import session7_utils as utils"
      ],
      "execution_count": null,
      "outputs": []
    },
    {
      "cell_type": "code",
      "metadata": {
        "id": "ARMVv876pTNO"
      },
      "source": [
        "norm_mean,norm_std = dataset.cifar10_mean_std()"
      ],
      "execution_count": null,
      "outputs": []
    },
    {
      "cell_type": "code",
      "metadata": {
        "id": "33DeYIJqpFVV"
      },
      "source": [
        "train_transform, test_transform = dataset.get_transforms(norm_mean,norm_std)"
      ],
      "execution_count": null,
      "outputs": []
    },
    {
      "cell_type": "code",
      "metadata": {
        "id": "F8qsPZSopTVv"
      },
      "source": [
        "# Extract and transform the data\n",
        "train_set,test_set = dataset.get_datasets(train_transform,test_transform)\n",
        "\n",
        "# Targets -> ('plane', 'car', 'bird', 'cat', 'deer', 'dog', 'frog', 'horse', 'ship', 'truck')\n",
        "classes = train_set.classes\n",
        "\n",
        "# Dataloader Arguments & Test/Train Dataloaders - Load part of ETL\n",
        "train_loader,test_loader = dataset.get_dataloaders(train_set,test_set)"
      ],
      "execution_count": null,
      "outputs": []
    },
    {
      "cell_type": "markdown",
      "metadata": {
        "id": "9mP4AoHEp7GD"
      },
      "source": [
        "Data Exploration"
      ]
    },
    {
      "cell_type": "code",
      "metadata": {
        "id": "38yj_Yc0p1GS"
      },
      "source": [
        "# Explore sample images\n",
        "utils.show_sample_images(train_loader, classes, .5, .25, num_of_images = 10)"
      ],
      "execution_count": null,
      "outputs": []
    },
    {
      "cell_type": "markdown",
      "metadata": {
        "id": "AieCc3hTqDZw"
      },
      "source": [
        "Import Model and show model summary"
      ]
    },
    {
      "cell_type": "code",
      "metadata": {
        "id": "V0e6fNdap1Bn"
      },
      "source": [
        "# Model summary\n",
        "use_cuda = torch.cuda.is_available()\n",
        "device = torch.device(\"cuda\" if use_cuda else \"cpu\")\n",
        "print(device)\n",
        "model = models.Net().to(device)\n",
        "summary(model, input_size=(3, 32, 32))"
      ],
      "execution_count": null,
      "outputs": []
    },
    {
      "cell_type": "markdown",
      "metadata": {
        "id": "PwjyG7-bqLYq"
      },
      "source": [
        "Train and Test"
      ]
    },
    {
      "cell_type": "code",
      "metadata": {
        "id": "NXPKodhPp05P"
      },
      "source": [
        "train_losses = []\n",
        "test_losses = []\n",
        "train_acc = []\n",
        "test_acc = []\n",
        "\n",
        "optimizer = optim.SGD(model.parameters(), lr=0.1, momentum=0.9)\n",
        "scheduler = StepLR(optimizer, step_size=10, gamma=0.1)\n",
        "\n",
        "EPOCHS = 20\n",
        "for epoch in range(EPOCHS):\n",
        "    print(\"EPOCH:\", epoch)\n",
        "    train.train(model, device, train_loader, optimizer, epoch, train_losses, train_acc)\n",
        "    scheduler.step()\n",
        "    test.test(model, device, test_loader, test_losses, test_acc)"
      ],
      "execution_count": null,
      "outputs": []
    },
    {
      "cell_type": "markdown",
      "metadata": {
        "id": "hurXzCpKqXu-"
      },
      "source": [
        "Validation accuracy and Loss change curves"
      ]
    },
    {
      "cell_type": "code",
      "metadata": {
        "id": "jA6W88-gp0yn"
      },
      "source": [
        "utils.valid_accuracy_loss_plots(train_losses, train_acc, test_losses, test_acc)"
      ],
      "execution_count": null,
      "outputs": []
    },
    {
      "cell_type": "markdown",
      "metadata": {
        "id": "Fb81OVX2qezB"
      },
      "source": [
        "Display misclassified images"
      ]
    },
    {
      "cell_type": "code",
      "metadata": {
        "id": "pQlt79spqaen"
      },
      "source": [
        "utils.show_misclassified_images(model, classes, test_loader, num_of_images = 25)"
      ],
      "execution_count": null,
      "outputs": []
    },
    {
      "cell_type": "code",
      "metadata": {
        "id": "M2WytilVqaaR"
      },
      "source": [
        ""
      ],
      "execution_count": null,
      "outputs": []
    }
  ]
}